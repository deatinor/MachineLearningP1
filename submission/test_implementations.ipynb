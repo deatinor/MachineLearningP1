{
 "cells": [
  {
   "cell_type": "code",
   "execution_count": 1,
   "metadata": {
    "collapsed": true
   },
   "outputs": [],
   "source": [
    "# Useful starting lines\n",
    "%matplotlib inline\n",
    "import numpy as np\n",
    "import matplotlib.pyplot as plt\n",
    "%load_ext autoreload\n",
    "%autoreload 2"
   ]
  },
  {
   "cell_type": "markdown",
   "metadata": {},
   "source": [
    "# Load data"
   ]
  },
  {
   "cell_type": "code",
   "execution_count": 2,
   "metadata": {
    "collapsed": true
   },
   "outputs": [],
   "source": [
    "from helpers import *\n",
    "import datetime\n",
    "\n",
    "height, weight, gender = load_data_from_ex02(sub_sample=False, add_outlier=False)\n",
    "x, mean_x, std_x = standardize(height)\n",
    "y, tx = build_model_data(x, weight)"
   ]
  },
  {
   "cell_type": "code",
   "execution_count": 3,
   "metadata": {
    "collapsed": false
   },
   "outputs": [
    {
     "data": {
      "text/plain": [
       "((10000,), (10000, 2))"
      ]
     },
     "execution_count": 3,
     "metadata": {},
     "output_type": "execute_result"
    }
   ],
   "source": [
    "y.shape, tx.shape"
   ]
  },
  {
   "cell_type": "markdown",
   "metadata": {},
   "source": [
    "# Import implementations.py"
   ]
  },
  {
   "cell_type": "code",
   "execution_count": 4,
   "metadata": {
    "collapsed": false
   },
   "outputs": [],
   "source": [
    "from implementations import *"
   ]
  },
  {
   "cell_type": "code",
   "execution_count": 5,
   "metadata": {
    "collapsed": true
   },
   "outputs": [],
   "source": [
    "gamma = 0.4\n",
    "max_iters = 50\n",
    "w0 = np.array([0.0, 0.0])"
   ]
  },
  {
   "cell_type": "code",
   "execution_count": 6,
   "metadata": {
    "collapsed": false
   },
   "outputs": [
    {
     "name": "stdout",
     "output_type": "stream",
     "text": [
      "Gradient descent: w*=[ 73.293922    13.47971243], loss=15.385888\n"
     ]
    }
   ],
   "source": [
    "w, loss = least_squares_GD(y, tx, w0, max_iters, gamma)\n",
    "\n",
    "print(\"Gradient descent: w*=%s, loss=%f\" % (str(w), loss))"
   ]
  },
  {
   "cell_type": "code",
   "execution_count": 7,
   "metadata": {
    "collapsed": false
   },
   "outputs": [
    {
     "name": "stdout",
     "output_type": "stream",
     "text": [
      "Stochastic gradient descent: w*=[ 69.56388355  15.52613891], loss=24.436412\n"
     ]
    }
   ],
   "source": [
    "np.random.seed(6)\n",
    "\n",
    "w, loss = least_squares_SGD(y, tx, w0, max_iters, gamma)\n",
    "\n",
    "print(\"Stochastic gradient descent: w*=%s, loss=%f\" % (str(w), loss))"
   ]
  },
  {
   "cell_type": "code",
   "execution_count": 8,
   "metadata": {
    "collapsed": false
   },
   "outputs": [
    {
     "name": "stdout",
     "output_type": "stream",
     "text": [
      "Least squares: w*=[ 73.293922    13.47971243], loss=15.385888\n"
     ]
    }
   ],
   "source": [
    "w, loss = least_squares(y, tx)\n",
    "\n",
    "print(\"Least squares: w*=%s, loss=%f\" % (str(w), loss))"
   ]
  },
  {
   "cell_type": "code",
   "execution_count": 9,
   "metadata": {
    "collapsed": false,
    "scrolled": true
   },
   "outputs": [
    {
     "name": "stdout",
     "output_type": "stream",
     "text": [
      "Ridge regression: w*=[ 73.293922    13.47971243], loss=15.385888\n",
      "Ridge regression: w*=[ 73.2920897   13.47937545], loss=15.385890\n"
     ]
    }
   ],
   "source": [
    "w, loss = ridge_regression(y, tx, 0.0)\n",
    "\n",
    "print(\"Ridge regression: w*=%s, loss=%f\" % (str(w), loss))\n",
    "\n",
    "w, loss = ridge_regression(y, tx, 0.5)\n",
    "\n",
    "print(\"Ridge regression: w*=%s, loss=%f\" % (str(w), loss))"
   ]
  },
  {
   "cell_type": "code",
   "execution_count": 17,
   "metadata": {
    "collapsed": false
   },
   "outputs": [
    {
     "name": "stdout",
     "output_type": "stream",
     "text": [
      "Polynomial regression with lambda=-0.500000: w*=[  1.91695901e-01   4.88680741e-01   2.80757803e-01  -3.43944999e-01\n",
      "   8.61701772e-02  -8.64960734e-03   3.49488900e-04], loss=0.032160\n",
      "Polynomial regression with lambda=-0.400000: w*=[ 0.17349069  0.50191031  0.3373157  -0.40547178  0.1088871  -0.01220457\n",
      "  0.00055074], loss=0.031975\n",
      "Polynomial regression with lambda=-0.300000: w*=[ 0.1614167   0.48233041  0.43680864 -0.49055466  0.13786677 -0.0165592\n",
      "  0.00079131], loss=0.031810\n",
      "Polynomial regression with lambda=-0.200000: w*=[ 0.16939678  0.37054577  0.65156362 -0.63740725  0.18302305 -0.022957\n",
      "  0.00113149], loss=0.031622\n",
      "Polynomial regression with lambda=-0.100000: w*=[ 0.23632227 -0.0163373   1.21993091 -0.97844335  0.28006639 -0.03601777\n",
      "  0.00180102], loss=0.031325\n",
      "Polynomial regression with lambda=0.000000: w*=[ 0.34760717 -0.59416793  2.01944999 -1.44070562  0.4083432  -0.05297242\n",
      "  0.00265836], loss=0.031175\n",
      "Polynomial regression with lambda=0.100000: w*=[ 0.23632227 -0.0163373   1.21993091 -0.97844335  0.28006639 -0.03601777\n",
      "  0.00180102], loss=0.031325\n",
      "Polynomial regression with lambda=0.200000: w*=[ 0.16939678  0.37054577  0.65156362 -0.63740725  0.18302305 -0.022957\n",
      "  0.00113149], loss=0.031622\n",
      "Polynomial regression with lambda=0.300000: w*=[ 0.1614167   0.48233041  0.43680864 -0.49055466  0.13786677 -0.0165592\n",
      "  0.00079131], loss=0.031810\n",
      "Polynomial regression with lambda=0.400000: w*=[ 0.17349069  0.50191031  0.3373157  -0.40547178  0.1088871  -0.01220457\n",
      "  0.00055074], loss=0.031975\n",
      "Polynomial regression with lambda=0.500000: w*=[  1.91695901e-01   4.88680741e-01   2.80757803e-01  -3.43944999e-01\n",
      "   8.61701772e-02  -8.64960734e-03   3.49488900e-04], loss=0.032160\n"
     ]
    }
   ],
   "source": [
    "x3, y3 = load_data_from_ex03()\n",
    "\n",
    "phi = build_poly(x3, 6)\n",
    "for lamb in np.linspace(-0.5, 0.5, 11):\n",
    "    w, loss = ridge_regression(y3, phi, lamb)\n",
    "    print(\"Polynomial regression with lambda=%f: w*=%s, loss=%f\" % (lamb, str(w), loss))"
   ]
  },
  {
   "cell_type": "code",
   "execution_count": null,
   "metadata": {
    "collapsed": true
   },
   "outputs": [],
   "source": []
  }
 ],
 "metadata": {
  "anaconda-cloud": {},
  "kernelspec": {
   "display_name": "Python [conda root]",
   "language": "python",
   "name": "conda-root-py"
  },
  "language_info": {
   "codemirror_mode": {
    "name": "ipython",
    "version": 3
   },
   "file_extension": ".py",
   "mimetype": "text/x-python",
   "name": "python",
   "nbconvert_exporter": "python",
   "pygments_lexer": "ipython3",
   "version": "3.5.2"
  }
 },
 "nbformat": 4,
 "nbformat_minor": 1
}
