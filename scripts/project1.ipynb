{
 "cells": [
  {
   "cell_type": "code",
   "execution_count": 1,
   "metadata": {
    "collapsed": false,
    "scrolled": true
   },
   "outputs": [],
   "source": [
    "# Useful starting lines\n",
    "%matplotlib inline\n",
    "import numpy as np\n",
    "import matplotlib.pyplot as plt\n",
    "%load_ext autoreload\n",
    "%autoreload 2\n",
    "import datetime\n",
    "from helpers import *"
   ]
  },
  {
   "cell_type": "markdown",
   "metadata": {},
   "source": [
    "## Load the training data into feature matrix, class labels, and event ids:"
   ]
  },
  {
   "cell_type": "code",
   "execution_count": 2,
   "metadata": {
    "collapsed": false
   },
   "outputs": [],
   "source": [
    "from proj1_helpers import *\n",
    "DATA_TRAIN_PATH = '../../train.csv' # TODO: download train data and supply path here \n",
    "y_starting, tX_starting, ids = load_csv_data(DATA_TRAIN_PATH,sub_sample=False)"
   ]
  },
  {
   "cell_type": "markdown",
   "metadata": {},
   "source": [
    "# Pandas"
   ]
  },
  {
   "cell_type": "code",
   "execution_count": 3,
   "metadata": {
    "collapsed": true
   },
   "outputs": [],
   "source": [
    "import pandas as pd"
   ]
  },
  {
   "cell_type": "code",
   "execution_count": 4,
   "metadata": {
    "collapsed": false,
    "scrolled": true
   },
   "outputs": [
    {
     "data": {
      "text/plain": [
       "count    250000.000000\n",
       "mean         -0.314664\n",
       "std           0.949205\n",
       "min          -1.000000\n",
       "25%          -1.000000\n",
       "50%          -1.000000\n",
       "75%           1.000000\n",
       "max           1.000000\n",
       "Name: Prediction, dtype: float64"
      ]
     },
     "execution_count": 4,
     "metadata": {},
     "output_type": "execute_result"
    }
   ],
   "source": [
    "# General data description\n",
    "pd_data=pd.read_csv(DATA_TRAIN_PATH)\n",
    "pd_data=pd_data.replace({'s':1,'b':-1})\n",
    "del pd_data['Id']\n",
    "pd_data.Prediction.describe()"
   ]
  },
  {
   "cell_type": "code",
   "execution_count": null,
   "metadata": {
    "collapsed": false,
    "scrolled": true
   },
   "outputs": [],
   "source": [
    "# Number of nan\n",
    "pd_data[pd_data==-999].count()"
   ]
  },
  {
   "cell_type": "code",
   "execution_count": null,
   "metadata": {
    "collapsed": false,
    "scrolled": true
   },
   "outputs": [],
   "source": [
    "# Correlation matrix\n",
    "pd_data2=pd_data.replace({-999:0})\n",
    "corr_matrix2=pd_data2.corr()\n",
    "corr_matrix2.Prediction"
   ]
  },
  {
   "cell_type": "code",
   "execution_count": null,
   "metadata": {
    "collapsed": true
   },
   "outputs": [],
   "source": [
    "pd_data3=pd_data.replace({-999:-10})\n",
    "corr_matrix3=pd_data3.corr()"
   ]
  },
  {
   "cell_type": "code",
   "execution_count": null,
   "metadata": {
    "collapsed": false,
    "scrolled": true
   },
   "outputs": [],
   "source": [
    "corr_matrix=pd_data.corr()\n",
    "corr_matrix.Prediction\n"
   ]
  },
  {
   "cell_type": "code",
   "execution_count": null,
   "metadata": {
    "collapsed": false,
    "scrolled": true
   },
   "outputs": [],
   "source": [
    "synthesis=corr_matrix[['Prediction']].copy()\n",
    "synthesis['PredictionCorrected']=corr_matrix2.Prediction\n",
    "synthesis['PredictionNan-10']=corr_matrix3.Prediction\n",
    "synthesis['id']=range(-1,synthesis.shape[0]-1)\n",
    "synthesis"
   ]
  },
  {
   "cell_type": "code",
   "execution_count": null,
   "metadata": {
    "collapsed": false
   },
   "outputs": [],
   "source": [
    "plt.matshow(pd_data2.corr())"
   ]
  },
  {
   "cell_type": "code",
   "execution_count": null,
   "metadata": {
    "collapsed": false,
    "scrolled": true
   },
   "outputs": [],
   "source": [
    "plt.scatter(pd_data2[[24]],pd_data2[[22]])"
   ]
  },
  {
   "cell_type": "markdown",
   "metadata": {},
   "source": [
    "# Data analysis"
   ]
  },
  {
   "cell_type": "code",
   "execution_count": null,
   "metadata": {
    "collapsed": false,
    "scrolled": true
   },
   "outputs": [],
   "source": [
    "names=pd_data.columns.values\n",
    "\n",
    "for i in range(tX_starting.shape[1]):\n",
    "    plt.figure()\n",
    "    plt.title(names[i+1]+\" \"+str(i))\n",
    "    plt.hist(tX_starting[:,i],bins=70)"
   ]
  },
  {
   "cell_type": "code",
   "execution_count": null,
   "metadata": {
    "collapsed": false
   },
   "outputs": [],
   "source": [
    "names=pd_data.columns.values\n",
    "\n",
    "for i in range(tX_starting.shape[1]):\n",
    "    plt.figure()\n",
    "    plt.title(names[i+1]+\" \"+str(i))\n",
    "    plt.boxplot(tX_starting[:,i])"
   ]
  },
  {
   "cell_type": "markdown",
   "metadata": {},
   "source": [
    "# Preprocessing"
   ]
  },
  {
   "cell_type": "markdown",
   "metadata": {},
   "source": [
    "### Delete columns with low correlation"
   ]
  },
  {
   "cell_type": "code",
   "execution_count": 4,
   "metadata": {
    "collapsed": false,
    "scrolled": false
   },
   "outputs": [],
   "source": [
    "def drop_col(tX_starting):\n",
    "    drop_columns=[]\n",
    "    #for i in range(tX_starting.shape[1]):\n",
    "    #    coeff=np.corrcoef(y,tX_starting[:,i])[0,1]\n",
    "    #    if abs(coeff)<0.000:\n",
    "    #        drop_columns.append(i)\n",
    "\n",
    "\n",
    "    tX=np.delete(tX_starting,drop_columns,axis=1)\n",
    "    return tX\n",
    "    "
   ]
  },
  {
   "cell_type": "code",
   "execution_count": 5,
   "metadata": {
    "collapsed": false
   },
   "outputs": [],
   "source": [
    "def replace_nan(tX_starting):\n",
    "    tX=tX_starting.copy()\n",
    "    nan_position=[tX[:,[0,4,23]]!=-999][0]*1\n",
    "\n",
    "    for col in range(tX.shape[1]):\n",
    "        column=tX[:,col][tX[:,col]!=-999]\n",
    "        mean=column.mean()\n",
    "        median=np.median(column)\n",
    "\n",
    "        tX[:,col][tX[:,col]==-999]=median    \n",
    "    \n",
    "    return nan_position,tX\n",
    "    "
   ]
  },
  {
   "cell_type": "markdown",
   "metadata": {},
   "source": [
    "### Categorical variables"
   ]
  },
  {
   "cell_type": "code",
   "execution_count": 6,
   "metadata": {
    "collapsed": false
   },
   "outputs": [],
   "source": [
    "def categorical_variables(tX_starting):\n",
    "    tX=tX_starting.copy()\n",
    "    \n",
    "    cat_variable=22\n",
    "    values=[0,1,2]\n",
    "\n",
    "    added_matrix=np.zeros([tX.shape[0],3])\n",
    "    added_matrix[:,0]=np.array([tX[:,22]==0])\n",
    "    added_matrix[:,1]=np.array([tX[:,22]==1])\n",
    "    added_matrix[:,2]=np.array([tX[:,22]==2])\n",
    "    \n",
    "    tX=np.delete(tX,[22],axis=1)\n",
    "    print(tX.shape)\n",
    "    \n",
    "    return added_matrix,tX"
   ]
  },
  {
   "cell_type": "code",
   "execution_count": 7,
   "metadata": {
    "collapsed": true
   },
   "outputs": [],
   "source": [
    "def before_poly(tX_starting):\n",
    "    tX=drop_col(tX_starting)\n",
    "    nan_position,tX=replace_nan(tX)\n",
    "    added_matrix,tX=categorical_variables(tX)\n",
    "    full_added_matrix=np.concatenate((added_matrix,nan_position),axis=1)\n",
    "    return full_added_matrix,tX"
   ]
  },
  {
   "cell_type": "code",
   "execution_count": 19,
   "metadata": {
    "collapsed": false
   },
   "outputs": [
    {
     "name": "stdout",
     "output_type": "stream",
     "text": [
      "(250000, 29)\n"
     ]
    }
   ],
   "source": [
    "full_added_matrix,tX=before_poly(tX_starting)"
   ]
  },
  {
   "cell_type": "markdown",
   "metadata": {},
   "source": [
    "### Polynomial regression"
   ]
  },
  {
   "cell_type": "code",
   "execution_count": 8,
   "metadata": {
    "collapsed": false
   },
   "outputs": [],
   "source": [
    "def build_poly(tX,degree,y,prod_to_exclude=False,train=True,columns_to_consider=False,exponential=False,cross_products=False,added_matrix_for_cross=False,threshold_power=0.0,threshold_cross=0.00):\n",
    "    if not columns_to_consider:\n",
    "        columns_to_consider=range(tX.shape[1])\n",
    "    if not prod_to_exclude:\n",
    "        prod_to_exclude=[]\n",
    "    columns_to_consider=np.array(columns_to_consider)\n",
    "    # Add power of the matrix\n",
    "    final_list=[]\n",
    "    for i in range(2,degree+1):\n",
    "        #corr=np.corrcoef(tX[:,columns_to_consider]**i,y,rowvar=0)[:-1,-1]\n",
    "        #cols=abs(corr)>threshold_power\n",
    "        #cols=columns_to_consider[cols]\n",
    "        cols=columns_to_consider\n",
    "        tX=np.concatenate((tX,tX[:,cols]**i),axis=1)\n",
    "    if exponential:\n",
    "        tX=np.concatenate((tX,np.exp(tX[:,cols]/100)),axis=1)\n",
    "#        tX=np.concatenate((tX,np.exp(tX[:,cols]/80)),axis=1)\n",
    "#        tX=np.concatenate((tX,np.exp(tX[:,cols]/60)),axis=1)\n",
    "        tX=np.concatenate((tX,np.exp(tX[:,cols]/50)),axis=1)\n",
    "        tX=np.concatenate((tX,np.exp(tX[:,cols]/40)),axis=1)\n",
    "        tX=np.concatenate((tX,np.exp(tX[:,cols]/20)),axis=1)\n",
    "    if cross_products:\n",
    "        if added_matrix_for_cross.any():\n",
    "            # Add to columns to consider\n",
    "            for i in range(tX.shape[1],tX.shape[1]+added_matrix_for_cross.shape[1]):\n",
    "                columns_to_consider=np.append(columns_to_consider,i)\n",
    "            # Concatenate\n",
    "            tX=np.concatenate((tX,added_matrix_for_cross),axis=1)\n",
    "            final_list.append(tX)\n",
    "        for i,col1 in enumerate(columns_to_consider):\n",
    "            for j,col2 in enumerate(columns_to_consider):\n",
    "                if j>i and (i,j) not in prod_to_exclude:\n",
    "                    if train:\n",
    "                        prod=tX[:,col1]*tX[:,col2]\n",
    "                        corr=np.corrcoef(prod,y)[0,1]\n",
    "                        if abs(corr)>threshold_cross:\n",
    "                            final_list.append(prod.reshape([prod.shape[0],1]))\n",
    "                        else:\n",
    "                            prod_to_exclude.append((i,j))\n",
    "                    else:\n",
    "                        prod=tX[:,col1]*tX[:,col2]\n",
    "                        final_list.append(prod.reshape([prod.shape[0],1]))\n",
    "        final_tuple=tuple(final_list)\n",
    "        tX=np.concatenate(final_tuple,axis=1)\n",
    "    return tX,prod_to_exclude"
   ]
  },
  {
   "cell_type": "code",
   "execution_count": 9,
   "metadata": {
    "collapsed": false,
    "scrolled": true
   },
   "outputs": [
    {
     "ename": "NameError",
     "evalue": "name 'tX' is not defined",
     "output_type": "error",
     "traceback": [
      "\u001b[1;31m---------------------------------------------------------------------------\u001b[0m",
      "\u001b[1;31mNameError\u001b[0m                                 Traceback (most recent call last)",
      "\u001b[1;32m<ipython-input-9-3b8126fd66ff>\u001b[0m in \u001b[0;36m<module>\u001b[1;34m()\u001b[0m\n\u001b[1;32m----> 1\u001b[1;33m \u001b[0mtX\u001b[0m\u001b[1;33m=\u001b[0m\u001b[0mbuild_poly\u001b[0m\u001b[1;33m(\u001b[0m\u001b[0mtX\u001b[0m\u001b[1;33m,\u001b[0m\u001b[1;36m10\u001b[0m\u001b[1;33m,\u001b[0m\u001b[0my\u001b[0m\u001b[1;33m,\u001b[0m\u001b[0mexponential\u001b[0m\u001b[1;33m=\u001b[0m\u001b[1;32mTrue\u001b[0m\u001b[1;33m,\u001b[0m\u001b[0mcross_products\u001b[0m\u001b[1;33m=\u001b[0m\u001b[1;32mTrue\u001b[0m\u001b[1;33m,\u001b[0m\u001b[0madded_matrix_for_cross\u001b[0m\u001b[1;33m=\u001b[0m\u001b[0mfull_added_matrix\u001b[0m\u001b[1;33m,\u001b[0m\u001b[0mthreshold_cross\u001b[0m\u001b[1;33m=\u001b[0m\u001b[1;36m0.0\u001b[0m\u001b[1;33m)\u001b[0m\u001b[1;33m\u001b[0m\u001b[0m\n\u001b[0m\u001b[0;32m      2\u001b[0m \u001b[0mtX\u001b[0m\u001b[1;33m.\u001b[0m\u001b[0mshape\u001b[0m\u001b[1;33m\u001b[0m\u001b[0m\n",
      "\u001b[1;31mNameError\u001b[0m: name 'tX' is not defined"
     ]
    }
   ],
   "source": [
    "tX=build_poly(tX,10,y,exponential=True,cross_products=True,added_matrix_for_cross=full_added_matrix,threshold_cross=0.0)\n",
    "tX.shape"
   ]
  },
  {
   "cell_type": "markdown",
   "metadata": {},
   "source": [
    "### Normalizing"
   ]
  },
  {
   "cell_type": "code",
   "execution_count": 128,
   "metadata": {
    "collapsed": false
   },
   "outputs": [],
   "source": [
    "def normalize(tX,mean=False,std=False,train=False):# Normalizing\n",
    "    if train:\n",
    "        mean=np.sum(tX,axis=0)/tX.shape[0]\n",
    "        std=np.sqrt(np.sum(tX**2,axis=0)/tX.shape[0])\n",
    "    tX=(tX-mean)/std\n",
    "    if train:\n",
    "        return tX,mean,std\n",
    "    else:\n",
    "        return tX"
   ]
  },
  {
   "cell_type": "code",
   "execution_count": 129,
   "metadata": {
    "collapsed": false
   },
   "outputs": [],
   "source": [
    "def add_ones(tX_starting):\n",
    "    ones=np.ones(tX_starting.shape[0]).reshape([tX_starting.shape[0],1])\n",
    "    tX=np.concatenate((tX_starting,ones),axis=1)\n",
    "    return tX"
   ]
  },
  {
   "cell_type": "code",
   "execution_count": 180,
   "metadata": {
    "collapsed": false,
    "scrolled": false
   },
   "outputs": [],
   "source": [
    "def process_data(tX_starting,prod_to_exclude=False,train=True,mean=False,std=False):\n",
    "    full_added_matrix,tX=before_poly(tX_starting)\n",
    "    tX,prod_to_exclude=build_poly(tX,10,y,train=train,prod_to_exclude=prod_to_exclude,exponential=True,cross_products=False,added_matrix_for_cross=full_added_matrix,threshold_cross=0.0)\n",
    "    if train:\n",
    "        tX,mean,std=normalize(tX,train=True)\n",
    "    else:\n",
    "        tX=normalize(tX,mean,std,train=False)\n",
    "    tX=add_ones(tX)\n",
    "    \n",
    "    if train:\n",
    "        return tX,prod_to_exclude,mean,std\n",
    "    else:\n",
    "        return tX"
   ]
  },
  {
   "cell_type": "code",
   "execution_count": 168,
   "metadata": {
    "collapsed": false
   },
   "outputs": [
    {
     "data": {
      "text/plain": [
       "(125000, 465)"
      ]
     },
     "execution_count": 168,
     "metadata": {},
     "output_type": "execute_result"
    }
   ],
   "source": [
    "tX.shape"
   ]
  },
  {
   "cell_type": "code",
   "execution_count": 169,
   "metadata": {
    "collapsed": false
   },
   "outputs": [
    {
     "data": {
      "text/plain": [
       "[]"
      ]
     },
     "execution_count": 169,
     "metadata": {},
     "output_type": "execute_result"
    }
   ],
   "source": [
    "prod_to_exclude"
   ]
  },
  {
   "cell_type": "markdown",
   "metadata": {},
   "source": [
    "# Splitting data"
   ]
  },
  {
   "cell_type": "code",
   "execution_count": 170,
   "metadata": {
    "collapsed": true
   },
   "outputs": [],
   "source": [
    "def split_data(x, y, ratio, seed=1):\n",
    "    \"\"\"split the dataset based on the split ratio.\"\"\"\n",
    "    # set seed\n",
    "    np.random.seed(seed)\n",
    "    print(x.shape)\n",
    "    train_elements=int(ratio*x.shape[0])\n",
    "    test_elements=x.shape[0]-train_elements\n",
    "    print(train_elements,test_elements)\n",
    "    indices = np.random.permutation(x.shape[0])\n",
    "    training_idx, test_idx = indices[:train_elements], indices[train_elements:]\n",
    "    x_train, x_test = x[training_idx], x[test_idx]\n",
    "    y_train, y_test = y[training_idx], y[test_idx]\n",
    "    return x_train,x_test,y_train,y_test"
   ]
  },
  {
   "cell_type": "code",
   "execution_count": 171,
   "metadata": {
    "collapsed": false,
    "scrolled": true
   },
   "outputs": [
    {
     "name": "stdout",
     "output_type": "stream",
     "text": [
      "(250000, 30)\n",
      "125000 125000\n"
     ]
    },
    {
     "data": {
      "text/plain": [
       "(125000, 30)"
      ]
     },
     "execution_count": 171,
     "metadata": {},
     "output_type": "execute_result"
    }
   ],
   "source": [
    "tX,tX_test,y,y_test=split_data(tX_starting,y_starting,0.5,1)\n",
    "tX_test.shape"
   ]
  },
  {
   "cell_type": "code",
   "execution_count": 172,
   "metadata": {
    "collapsed": false,
    "scrolled": true
   },
   "outputs": [
    {
     "data": {
      "text/plain": [
       "(125000, 30)"
      ]
     },
     "execution_count": 172,
     "metadata": {},
     "output_type": "execute_result"
    }
   ],
   "source": [
    "tX.shape"
   ]
  },
  {
   "cell_type": "markdown",
   "metadata": {},
   "source": [
    "## Process data"
   ]
  },
  {
   "cell_type": "code",
   "execution_count": 173,
   "metadata": {
    "collapsed": false,
    "scrolled": true
   },
   "outputs": [
    {
     "name": "stdout",
     "output_type": "stream",
     "text": [
      "(125000, 29)\n",
      "(125000, 29)\n"
     ]
    }
   ],
   "source": [
    "tX,prod_to_exclude,mean,std=process_data(tX,train=True)\n",
    "tX_test=process_data(tX_test,prod_to_exclude=prod_to_exclude,mean=mean,std=std,train=False)"
   ]
  },
  {
   "cell_type": "code",
   "execution_count": 174,
   "metadata": {
    "collapsed": false
   },
   "outputs": [
    {
     "data": {
      "text/plain": [
       "(125000, 523)"
      ]
     },
     "execution_count": 174,
     "metadata": {},
     "output_type": "execute_result"
    }
   ],
   "source": [
    "tX.shape"
   ]
  },
  {
   "cell_type": "markdown",
   "metadata": {},
   "source": [
    "## Do your thing crazy machine learning thing here :) ..."
   ]
  },
  {
   "cell_type": "code",
   "execution_count": 175,
   "metadata": {
    "collapsed": true
   },
   "outputs": [],
   "source": [
    "def compute_predictions(tX,w):\n",
    "    prediction=tX.dot(w)\n",
    "    prediction[np.where(prediction <= 0)] = -1\n",
    "    prediction[np.where(prediction > 0)] = 1\n",
    "    return prediction"
   ]
  },
  {
   "cell_type": "code",
   "execution_count": 144,
   "metadata": {
    "collapsed": true
   },
   "outputs": [],
   "source": [
    "def evaluate_prediction(prediction,y):\n",
    "    return (sum(y*prediction)/y.shape[0]+1)/2"
   ]
  },
  {
   "cell_type": "code",
   "execution_count": 145,
   "metadata": {
    "collapsed": true
   },
   "outputs": [],
   "source": [
    "def evaluate(y,tX,w):\n",
    "    prediction=compute_predictions(tX,w)\n",
    "    return evaluate_prediction(prediction,y)"
   ]
  },
  {
   "cell_type": "code",
   "execution_count": 146,
   "metadata": {
    "collapsed": true
   },
   "outputs": [],
   "source": [
    "def compute_loss(y, tX, w):\n",
    "    \"\"\"Calculate the loss.\n",
    "\n",
    "    You can calculate the loss using mse or mae.\n",
    "    \"\"\"\n",
    "    error= y-tX.dot(w)\n",
    "    square=np.sum(error**2)/error.shape[0]\n",
    "    return square"
   ]
  },
  {
   "cell_type": "code",
   "execution_count": 147,
   "metadata": {
    "collapsed": false
   },
   "outputs": [
    {
     "ename": "NameError",
     "evalue": "name 'y_train' is not defined",
     "output_type": "error",
     "traceback": [
      "\u001b[1;31m---------------------------------------------------------------------------\u001b[0m",
      "\u001b[1;31mNameError\u001b[0m                                 Traceback (most recent call last)",
      "\u001b[1;32m<ipython-input-147-caee08f02ab0>\u001b[0m in \u001b[0;36m<module>\u001b[1;34m()\u001b[0m\n\u001b[0;32m      6\u001b[0m     \u001b[1;32mreturn\u001b[0m \u001b[0mgradient\u001b[0m\u001b[1;33m\u001b[0m\u001b[0m\n\u001b[0;32m      7\u001b[0m \u001b[1;33m\u001b[0m\u001b[0m\n\u001b[1;32m----> 8\u001b[1;33m \u001b[0mcompute_gradient\u001b[0m\u001b[1;33m(\u001b[0m\u001b[0my_train\u001b[0m\u001b[1;33m,\u001b[0m\u001b[0mtX_train\u001b[0m\u001b[1;33m,\u001b[0m\u001b[0mnp\u001b[0m\u001b[1;33m.\u001b[0m\u001b[0mzeros\u001b[0m\u001b[1;33m(\u001b[0m\u001b[1;33m[\u001b[0m\u001b[0mtX_train\u001b[0m\u001b[1;33m.\u001b[0m\u001b[0mshape\u001b[0m\u001b[1;33m[\u001b[0m\u001b[1;36m1\u001b[0m\u001b[1;33m]\u001b[0m\u001b[1;33m]\u001b[0m\u001b[1;33m)\u001b[0m\u001b[1;33m)\u001b[0m\u001b[1;33m.\u001b[0m\u001b[0mshape\u001b[0m\u001b[1;33m\u001b[0m\u001b[0m\n\u001b[0m",
      "\u001b[1;31mNameError\u001b[0m: name 'y_train' is not defined"
     ]
    }
   ],
   "source": [
    "def compute_gradient(y, tX, w):\n",
    "    \"\"\"Compute the gradient.\"\"\"\n",
    "    N=tX.shape[0]\n",
    "    error=y-tX.dot(w)\n",
    "    gradient=-1.0/N*(np.transpose(tX).dot(error))\n",
    "    return gradient\n",
    "        \n",
    "compute_gradient(y_train,tX_train,np.zeros([tX_train.shape[1]])).shape"
   ]
  },
  {
   "cell_type": "code",
   "execution_count": null,
   "metadata": {
    "collapsed": true
   },
   "outputs": [],
   "source": [
    "def gradient_descent(y, tX, initial_w, max_iters, gamma): \n",
    "    \"\"\"Gradient descent algorithm.\"\"\"\n",
    "    # Define parameters to store w and loss\n",
    "    ws = [initial_w]\n",
    "    losses = []\n",
    "    w = initial_w\n",
    "    for n_iter in range(max_iters):\n",
    "        # Compute gradient and loss\n",
    "        gradient=compute_gradient(y,tX,w)\n",
    "        loss=compute_loss(y,tX,w)\n",
    "        # Update w by gradient\n",
    "        w=w-gamma*gradient\n",
    "        # store w and loss\n",
    "        ws.append(np.copy(w))\n",
    "        losses.append(loss)\n",
    "        print(\"Gradient Descent({bi}/{ti}): loss={l}\".format(\n",
    "              bi=n_iter, ti=max_iters - 1, l=loss))\n",
    "\n",
    "    print(w.shape)\n",
    "    return loss, w"
   ]
  },
  {
   "cell_type": "code",
   "execution_count": null,
   "metadata": {
    "collapsed": true
   },
   "outputs": [],
   "source": [
    "def compute_stoch_gradient(y, tx, w):\n",
    "    \"\"\"Compute a stochastic gradient for batch data.\"\"\"\n",
    "    N=tx.shape[0]\n",
    "    error=y-tx.dot(w)\n",
    "    gradient=-1.0/N*(np.transpose(tx).dot(error))\n",
    "    return gradient\n",
    "\n",
    "\n",
    "def stochastic_gradient_descent(y, tx, initial_w, batch_size, max_epochs, gamma):\n",
    "    \"\"\"Stochastic gradient descent algorithm.\"\"\"\n",
    "    # Define parameters to store w and loss\n",
    "    ws = [initial_w]\n",
    "    losses = []\n",
    "    w = initial_w\n",
    "    y_shuffle=[]\n",
    "    tx_shuffle=[]\n",
    "    for minibatch_y, minibatch_tx in batch_iter(y, tx, batch_size):\n",
    "        y_shuffle.append(minibatch_y)\n",
    "        tx_shuffle.append(minibatch_tx)\n",
    "    for n_iter in range(max_epochs):\n",
    "        # compute stochastic gradient\n",
    "        gradient=compute_stoch_gradient(y_shuffle[n_iter],tx_shuffle[n_iter],w)\n",
    "        loss=compute_loss(y,tx,w)\n",
    "        # update w\n",
    "        w=w-gamma*gradient\n",
    "        # store w and loss\n",
    "        ws.append(np.copy(w))\n",
    "        losses.append(loss)\n",
    "        print(\"Gradient Descent({bi}/{ti}): loss={l}, w0={w0}, w1={w1}\".format(\n",
    "              bi=n_iter, ti=max_iters - 1, l=loss, w0=w[0], w1=w[1]))\n",
    "\n",
    "    return loss, w"
   ]
  },
  {
   "cell_type": "code",
   "execution_count": null,
   "metadata": {
    "collapsed": false,
    "scrolled": true
   },
   "outputs": [],
   "source": [
    "# Define the parameters of the algorithm.\n",
    "max_iters = 50\n",
    "gamma = 0.00001\n",
    "\n",
    "# Initialization\n",
    "w_initial = np.ones(tX.shape[1])\n",
    "\n",
    "# Start gradient descent.\n",
    "start_time = datetime.datetime.now()\n",
    "gradient_losses, w = gradient_descent(y, tX, w_initial, max_iters, gamma)\n",
    "#gradient_losses, w = stochastic_gradient_descent(y_train, tX_train, w_initial,30, max_iters, gamma)\n",
    "end_time = datetime.datetime.now()\n",
    "\n",
    "# Print result\n",
    "exection_time = (end_time - start_time).total_seconds()\n",
    "print(\"Gradient Descent: execution time={t:.3f} seconds\".format(t=exection_time))\n",
    "\n",
    "print(sum((y_test-tX_test.dot(w))**2)/tX_test.shape[0])"
   ]
  },
  {
   "cell_type": "code",
   "execution_count": 176,
   "metadata": {
    "collapsed": false,
    "scrolled": false
   },
   "outputs": [
    {
     "name": "stdout",
     "output_type": "stream",
     "text": [
      "0.821864\n",
      "0.820888\n"
     ]
    }
   ],
   "source": [
    "def least_squares(y, tx):\n",
    "    \"\"\"calculate the least squares solution.\"\"\"\n",
    "    # returns mse, and optimal weights\n",
    "    \n",
    "    w=np.linalg.solve(tx.T.dot(tx),tx.T.dot(y))\n",
    "    mse=sum((y-tx.dot(w))**2)/tx.shape[0]\n",
    "    \n",
    "    return mse,w\n",
    "\n",
    "mse,w=least_squares(y,tX)\n",
    "print(evaluate(y,tX,w))\n",
    "print(evaluate(y_test,tX_test,w))"
   ]
  },
  {
   "cell_type": "code",
   "execution_count": 177,
   "metadata": {
    "collapsed": false,
    "scrolled": false
   },
   "outputs": [],
   "source": [
    "def ridge_regression(y, tx, lamb):\n",
    "    \"\"\"implement ridge regression.\"\"\"\n",
    "    # ***************************************************\n",
    "    # INSERT YOUR CODE HERE\n",
    "    # ridge regression: TODO\n",
    "    # ***************************************************\n",
    "    w=np.linalg.solve(tx.T.dot(tx)+lamb**2*np.identity(tx.shape[1]),tx.T.dot(y))\n",
    "    #mse=sum((y-tx.dot(w))**2)/tx.shape[0]\n",
    "    return 1,w\n",
    "\n",
    "mse,w=ridge_regression(y,tX,0)"
   ]
  },
  {
   "cell_type": "code",
   "execution_count": 178,
   "metadata": {
    "collapsed": false,
    "scrolled": true
   },
   "outputs": [
    {
     "name": "stdout",
     "output_type": "stream",
     "text": [
      "0\n",
      "10\n",
      "20\n",
      "30\n",
      "40\n",
      "50\n",
      "60\n",
      "70\n",
      "80\n",
      "90\n",
      "100\n"
     ]
    },
    {
     "data": {
      "text/plain": [
       "<matplotlib.legend.Legend at 0x7f66463ce828>"
      ]
     },
     "execution_count": 178,
     "metadata": {},
     "output_type": "execute_result"
    },
    {
     "data": {
      "image/png": "[encoded data removed]",
      "text/plain": [
       "<matplotlib.figure.Figure at 0x7f664a5f3550>"
      ]
     },
     "metadata": {},
     "output_type": "display_data"
    }
   ],
   "source": [
    "perc_tr=[]\n",
    "perc_te=[]\n",
    "\n",
    "lambdas = np.linspace(-0.01,0.01,101)\n",
    "for i,lamb in enumerate(lambdas):\n",
    "    mse,w=ridge_regression(y,tX,lamb)\n",
    "    \n",
    "    perc_tr.append(evaluate(y,tX,w))\n",
    "    perc_te.append(evaluate(y_test,tX_test,w))\n",
    "    \n",
    "    if i%10==0:\n",
    "        print(i)\n",
    "\n",
    "plt.plot(lambdas,perc_tr,label='train',color='r')\n",
    "plt.plot(lambdas,perc_te,label='test')\n",
    "plt.legend()"
   ]
  },
  {
   "cell_type": "code",
   "execution_count": 179,
   "metadata": {
    "collapsed": false,
    "scrolled": true
   },
   "outputs": [
    {
     "name": "stdout",
     "output_type": "stream",
     "text": [
      "0.820888\n",
      "0.814576\n"
     ]
    },
    {
     "data": {
      "text/plain": [
       "(523,)"
      ]
     },
     "execution_count": 179,
     "metadata": {},
     "output_type": "execute_result"
    }
   ],
   "source": [
    "print(np.amax(perc_te))\n",
    "print(np.median(perc_te))\n",
    "b=np.argmax(perc_te)\n",
    "best_lamb=lambdas[b]\n",
    "best_lamb\n",
    "mse,w=ridge_regression(y,tX,best_lamb)\n",
    "w.shape"
   ]
  },
  {
   "cell_type": "markdown",
   "metadata": {},
   "source": [
    "## Best so far\n",
    "- Degree 10 - 4 exp - all done, ridge regression: 0.82956\n",
    "- Degree 10 - 3 exp - all done, ridge regression: 0.829008\n",
    "- Degree 14 - 2 exp - all done, ridge regression: 0.82896\n",
    "- Degree 12 - 2 exp - all done, ridge regression: 0.828936\n",
    "- Degree 12 - all done, ridge regression: 0.828784\n",
    "- Degree 10 - 2 exp - all done, ridge regression: 0.828408\n",
    "- Degree 10 - exp - all done, ridge regression: 0.827816\n",
    "- Degree 10 - all done, ridge regression: 0.82717600000000002\n",
    "- Degree 6 - all done, ridge regression: 0.81543199999999993\n",
    "- Degree 8 - all done, ridge regression: 0.82291999999999998"
   ]
  },
  {
   "cell_type": "code",
   "execution_count": null,
   "metadata": {
    "collapsed": false
   },
   "outputs": [],
   "source": [
    "# Basic implementation of logistic regression using the least squares\n",
    "def logistic_regression(y,tx,tx_test,threshold=0.5):\n",
    "    mse,w=least_squares(y,tx)\n",
    "    \n",
    "    y_prev=tx.dot(w)\n",
    "    y_prev=1/(1+np.exp(-y_prev))\n",
    "    output_train=np.ones(y_prev.shape[0])\n",
    "    output_train[np.where(y_prev<threshold)] = -1\n",
    "    \n",
    "    y_test=tx_test.dot(w)\n",
    "    y_test=1/(1+np.exp(-y_test))\n",
    "    output_test=np.ones(y_test.shape[0])\n",
    "    output_test[np.where(y_test<threshold)] = -1\n",
    "    \n",
    "    return output_train,output_test\n",
    "\n",
    "thresholds=np.linspace(0.48,0.52,101)\n",
    "perc_log_tr=[]\n",
    "perc_log_te=[]\n",
    "for threshold in thresholds:\n",
    "    output_train,output_test=logistic_regression(y_train,tX_train,tX_test,threshold)\n",
    "    perc_log_tr.append(evaluate_prediction(output_train,y_train))\n",
    "    perc_log_te.append(evaluate_prediction(output_test,y_test))\n",
    "\n",
    "    \n",
    "plt.plot(thresholds,perc_log_tr,'r',label='Train')\n",
    "plt.plot(thresholds,perc_log_te,'b',label='Test')\n",
    "plt.legend()"
   ]
  },
  {
   "cell_type": "markdown",
   "metadata": {},
   "source": [
    "# Test on training dataset"
   ]
  },
  {
   "cell_type": "code",
   "execution_count": null,
   "metadata": {
    "collapsed": false
   },
   "outputs": [],
   "source": [
    "tX_test_post=np.copy(tX_test)\n",
    "tX_test_post[tX_test_post==-999]=0\n",
    "prediction=compute_predictions(tX_test,w)\n",
    "evaluate_prediction(prediction,y_test)"
   ]
  },
  {
   "cell_type": "code",
   "execution_count": null,
   "metadata": {
    "collapsed": false
   },
   "outputs": [],
   "source": [
    "print(sum((y_test-tX_test.dot(w))**2)/tX_test.shape[0])\n",
    "print(tX_test.dot(w))"
   ]
  },
  {
   "cell_type": "markdown",
   "metadata": {},
   "source": [
    "## Generate predictions and save ouput in csv format for submission:"
   ]
  },
  {
   "cell_type": "code",
   "execution_count": 153,
   "metadata": {
    "collapsed": false
   },
   "outputs": [],
   "source": [
    "DATA_TEST_PATH = '../../test.csv' # TODO: download train data and supply path here \n",
    "_, tX_final_test, ids_test = load_csv_data(DATA_TEST_PATH)"
   ]
  },
  {
   "cell_type": "code",
   "execution_count": 156,
   "metadata": {
    "collapsed": false,
    "scrolled": false
   },
   "outputs": [
    {
     "name": "stdout",
     "output_type": "stream",
     "text": [
      "(568238, 29)\n"
     ]
    },
    {
     "data": {
      "text/plain": [
       "array([[-0.05934477,  0.49929383, -0.62889712, ..., -0.0021756 ,\n",
       "        -0.00282877,  1.        ],\n",
       "       [-0.10611855,  0.29984423,  0.07464904, ..., -0.0021756 ,\n",
       "        -0.00282877,  1.        ],\n",
       "       [-0.01934759,  0.11415944,  0.16704077, ..., -0.0021756 ,\n",
       "        -0.00282877,  1.        ],\n",
       "       ..., \n",
       "       [-0.09013643, -0.65055395, -0.17586011, ..., -0.0021756 ,\n",
       "        -0.00282877,  1.        ],\n",
       "       [-0.17987691, -0.48292001, -0.15615999, ..., -0.0021756 ,\n",
       "        -0.00282877,  1.        ],\n",
       "       [-0.21290714,  0.50786593, -0.03884919, ..., -0.0021756 ,\n",
       "        -0.00282877,  1.        ]])"
      ]
     },
     "execution_count": 156,
     "metadata": {},
     "output_type": "execute_result"
    }
   ],
   "source": [
    "tX_final=process_data(tX_final_test,prod_to_exclude=prod_to_exclude,mean=mean,std=std,train=False)"
   ]
  },
  {
   "cell_type": "code",
   "execution_count": 157,
   "metadata": {
    "collapsed": false
   },
   "outputs": [
    {
     "data": {
      "text/plain": [
       "(568238, 407)"
      ]
     },
     "execution_count": 157,
     "metadata": {},
     "output_type": "execute_result"
    }
   ],
   "source": [
    "tX_final.shape"
   ]
  },
  {
   "cell_type": "code",
   "execution_count": 158,
   "metadata": {
    "collapsed": false
   },
   "outputs": [
    {
     "name": "stdout",
     "output_type": "stream",
     "text": [
      "[-1. -1.  1. ...,  1. -1. -1.]\n"
     ]
    }
   ],
   "source": [
    "OUTPUT_PATH = '../../predictions.csv' # TODO: fill in desired name of output file for submission\n",
    "y_pred = predict_labels(w, tX_final)\n",
    "#y_train,y_test = logistic_regression(y_train,tX_train,tX_final_test,0.48)\n",
    "create_csv_submission(ids_test, y_pred, OUTPUT_PATH)\n",
    "print(y_pred)"
   ]
  },
  {
   "cell_type": "code",
   "execution_count": null,
   "metadata": {
    "collapsed": true
   },
   "outputs": [],
   "source": []
  }
 ],
 "metadata": {
  "anaconda-cloud": {},
  "kernelspec": {
   "display_name": "Python [Root]",
   "language": "python",
   "name": "Python [Root]"
  },
  "language_info": {
   "codemirror_mode": {
    "name": "ipython",
    "version": 3
   },
   "file_extension": ".py",
   "mimetype": "text/x-python",
   "name": "python",
   "nbconvert_exporter": "python",
   "pygments_lexer": "ipython3",
   "version": "3.5.2"
  }
 },
 "nbformat": 4,
 "nbformat_minor": 0
}
